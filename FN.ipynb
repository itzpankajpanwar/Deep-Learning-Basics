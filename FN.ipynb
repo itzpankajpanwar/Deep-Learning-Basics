{
  "nbformat": 4,
  "nbformat_minor": 0,
  "metadata": {
    "colab": {
      "name": "FN.ipynb",
      "provenance": [],
      "include_colab_link": true
    },
    "kernelspec": {
      "name": "python3",
      "display_name": "Python 3"
    },
    "language_info": {
      "name": "python"
    }
  },
  "cells": [
    {
      "cell_type": "markdown",
      "metadata": {
        "id": "view-in-github",
        "colab_type": "text"
      },
      "source": [
        "<a href=\"https://colab.research.google.com/github/itzpankajpanwar/Deep-Learning-Basics/blob/main/FN.ipynb\" target=\"_parent\"><img src=\"https://colab.research.google.com/assets/colab-badge.svg\" alt=\"Open In Colab\"/></a>"
      ]
    },
    {
      "cell_type": "code",
      "metadata": {
        "colab": {
          "base_uri": "https://localhost:8080/"
        },
        "id": "0f4WCnOJ-xNh",
        "outputId": "46f04465-5bda-43ce-f999-375f670fb3ad"
      },
      "source": [
        "!git clone https://github.com/itzpankajpanwar/FakeNewsPropagation.git\n"
      ],
      "execution_count": 33,
      "outputs": [
        {
          "output_type": "stream",
          "text": [
            "fatal: destination path 'FakeNewsPropagation' already exists and is not an empty directory.\n"
          ],
          "name": "stdout"
        }
      ]
    },
    {
      "cell_type": "code",
      "metadata": {
        "id": "8zCayat9_QLo"
      },
      "source": [
        "!python3 \"/content/FakeNewsPropagation/load_dataset.py\""
      ],
      "execution_count": 34,
      "outputs": []
    },
    {
      "cell_type": "code",
      "metadata": {
        "colab": {
          "base_uri": "https://localhost:8080/"
        },
        "id": "QAiaDB4I_TcK",
        "outputId": "2afe64a8-1592-434e-bd60-1eb79cccbbe7"
      },
      "source": [
        "!pip install -r \"/content/FakeNewsPropagation/requirements.txt\""
      ],
      "execution_count": 35,
      "outputs": [
        {
          "output_type": "stream",
          "text": [
            "Collecting absl-py==0.7.0\n",
            "  Using cached https://files.pythonhosted.org/packages/31/bc/ab68120d1d89ae23b694a55fe2aece2f91194313b71f9b05a80b32d3c24b/absl-py-0.7.0.tar.gz\n",
            "Requirement already satisfied: alabaster==0.7.12 in /usr/local/lib/python3.7/dist-packages (from -r /content/FakeNewsPropagation/requirements.txt (line 2)) (0.7.12)\n",
            "Collecting allennlp==0.8.0\n",
            "  Using cached https://files.pythonhosted.org/packages/92/87/905d0ac536477490ee3392f0db97f40fae7f0ec6baee52e44880a20a2515/allennlp-0.8.0-py3-none-any.whl\n",
            "Collecting asn1crypto==0.24.0\n",
            "  Using cached https://files.pythonhosted.org/packages/ea/cd/35485615f45f30a510576f1a56d1e0a7ad7bd8ab5ed7cdc600ef7cd06222/asn1crypto-0.24.0-py2.py3-none-any.whl\n",
            "Collecting astor==0.7.1\n",
            "  Using cached https://files.pythonhosted.org/packages/35/6b/11530768cac581a12952a2aad00e1526b89d242d0b9f59534ef6e6a1752f/astor-0.7.1-py2.py3-none-any.whl\n",
            "Collecting atomicwrites==1.2.1\n",
            "  Using cached https://files.pythonhosted.org/packages/3a/9a/9d878f8d885706e2530402de6417141129a943802c084238914fa6798d97/atomicwrites-1.2.1-py2.py3-none-any.whl\n",
            "Collecting attrs==18.2.0\n",
            "  Using cached https://files.pythonhosted.org/packages/3a/e1/5f9023cc983f1a628a8c2fd051ad19e76ff7b142a0faf329336f9a62a514/attrs-18.2.0-py2.py3-none-any.whl\n",
            "Collecting aws-xray-sdk==0.95\n",
            "  Using cached https://files.pythonhosted.org/packages/a4/a5/da7887285564f9e0ae5cd25a453cca36e2cd43d8ccc9effde260b4d80904/aws_xray_sdk-0.95-py2.py3-none-any.whl\n",
            "Collecting awscli==1.16.81\n",
            "  Using cached https://files.pythonhosted.org/packages/22/13/5c2df72102ab95f13a0b2ad470500327765e163d6867afd6421316fa6692/awscli-1.16.81-py2.py3-none-any.whl\n",
            "Collecting Babel==2.6.0\n",
            "  Using cached https://files.pythonhosted.org/packages/b8/ad/c6f60602d3ee3d92fbed87675b6fb6a6f9a38c223343ababdb44ba201f10/Babel-2.6.0-py2.py3-none-any.whl\n",
            "Requirement already satisfied: beautifulsoup4==4.6.3 in /usr/local/lib/python3.7/dist-packages (from -r /content/FakeNewsPropagation/requirements.txt (line 11)) (4.6.3)\n",
            "Collecting boto==2.49.0\n",
            "  Using cached https://files.pythonhosted.org/packages/23/10/c0b78c27298029e4454a472a1919bde20cb182dab1662cec7f2ca1dcc523/boto-2.49.0-py2.py3-none-any.whl\n",
            "Collecting boto3==1.9.71\n",
            "  Using cached https://files.pythonhosted.org/packages/0b/3b/925c7aded1c54c12d5be964ab543420b01d95759c5756a574588d49444ad/boto3-1.9.71-py2.py3-none-any.whl\n",
            "Collecting botocore==1.12.71\n",
            "  Using cached https://files.pythonhosted.org/packages/50/c0/cd4f8bec8a10876f0ce34f0cf264fda04e09df41d1a473a43f890c71fffa/botocore-1.12.71-py2.py3-none-any.whl\n",
            "Collecting certifi==2018.10.15\n",
            "  Using cached https://files.pythonhosted.org/packages/56/9d/1d02dd80bc4cd955f98980f28c5ee2200e1209292d5f9e9cc8d030d18655/certifi-2018.10.15-py2.py3-none-any.whl\n",
            "Collecting cffi==1.11.5\n",
            "  Using cached https://files.pythonhosted.org/packages/51/7b/d1014289d0578c3522b2798b9cb87c65e5b36798bd3ae68a75fa1fe09e78/cffi-1.11.5-cp37-cp37m-manylinux1_x86_64.whl\n",
            "Requirement already satisfied: chardet==3.0.4 in /usr/local/lib/python3.7/dist-packages (from -r /content/FakeNewsPropagation/requirements.txt (line 17)) (3.0.4)\n",
            "Collecting Click==7.0\n",
            "  Using cached https://files.pythonhosted.org/packages/fa/37/45185cb5abbc30d7257104c434fe0b07e5a195a6847506c074527aa599ec/Click-7.0-py2.py3-none-any.whl\n",
            "Collecting colorama==0.3.9\n",
            "  Using cached https://files.pythonhosted.org/packages/db/c8/7dcf9dbcb22429512708fe3a547f8b6101c0d02137acbd892505aee57adf/colorama-0.3.9-py2.py3-none-any.whl\n",
            "Collecting conllu==0.11\n",
            "  Using cached https://files.pythonhosted.org/packages/d4/2c/856344d9b69baf5b374c395b4286626181a80f0c2b2f704914d18a1cea47/conllu-0.11-py2.py3-none-any.whl\n",
            "Collecting cookies==2.2.1\n",
            "  Using cached https://files.pythonhosted.org/packages/6a/60/557f84aa2db629e5124aa05408b975b1b5d0e1cec16cde0bfa06aae097d3/cookies-2.2.1-py2.py3-none-any.whl\n",
            "Collecting cryptography==2.4.2\n",
            "  Using cached https://files.pythonhosted.org/packages/60/c7/99b33c53cf3f20a97a4c4bfd3ab66dcc93d99da0a97cc9597aa36ae6bb62/cryptography-2.4.2-cp34-abi3-manylinux1_x86_64.whl\n",
            "Collecting cssselect==1.0.3\n",
            "  Using cached https://files.pythonhosted.org/packages/7b/44/25b7283e50585f0b4156960691d951b05d061abf4a714078393e51929b30/cssselect-1.0.3-py2.py3-none-any.whl\n",
            "Requirement already satisfied: cycler==0.10.0 in /usr/local/lib/python3.7/dist-packages (from -r /content/FakeNewsPropagation/requirements.txt (line 24)) (0.10.0)\n",
            "Collecting cymem==2.0.2\n",
            "  Using cached https://files.pythonhosted.org/packages/65/26/e534148e509cbebbea3ee29f50f59eb206621d12c35e4594507da8dc54cc/cymem-2.0.2-cp37-cp37m-manylinux1_x86_64.whl\n",
            "Collecting cytoolz==0.9.0.1\n",
            "  Using cached https://files.pythonhosted.org/packages/36/f4/9728ba01ccb2f55df9a5af029b48ba0aaca1081bbd7823ea2ee223ba7a42/cytoolz-0.9.0.1.tar.gz\n",
            "Collecting datefinder==0.6.1\n",
            "  Using cached https://files.pythonhosted.org/packages/fb/fd/be18709bc487ca2632b2ef52f5c696987e3b90fd3dc3b215a9adbcd836d9/datefinder-0.6.1-py2.py3-none-any.whl\n",
            "Collecting decorator==4.3.0\n",
            "  Using cached https://files.pythonhosted.org/packages/bc/bb/a24838832ba35baf52f32ab1a49b906b5f82fb7c76b2f6a7e35e140bac30/decorator-4.3.0-py2.py3-none-any.whl\n",
            "Collecting dill==0.2.8.2\n",
            "  Using cached https://files.pythonhosted.org/packages/6f/78/8b96476f4ae426db71c6e86a8e6a81407f015b34547e442291cd397b18f3/dill-0.2.8.2.tar.gz\n",
            "Collecting docker==3.6.0\n",
            "  Using cached https://files.pythonhosted.org/packages/e1/58/938fbc7acd98302ca4872f5eab8ab811498e342ab5aec0c1609f22e0aeda/docker-3.6.0-py2.py3-none-any.whl\n",
            "Collecting docker-pycreds==0.4.0\n",
            "  Using cached https://files.pythonhosted.org/packages/f5/e8/f6bd1eee09314e7e6dee49cbe2c5e22314ccdb38db16c9fc72d2fa80d054/docker_pycreds-0.4.0-py2.py3-none-any.whl\n",
            "Collecting docutils==0.14\n",
            "  Using cached https://files.pythonhosted.org/packages/36/fa/08e9e6e0e3cbd1d362c3bbee8d01d0aedb2155c4ac112b19ef3cae8eed8d/docutils-0.14-py3-none-any.whl\n",
            "Collecting ecdsa==0.13\n",
            "  Using cached https://files.pythonhosted.org/packages/63/f4/73669d51825516ce8c43b816c0a6b64cd6eb71d08b99820c00792cb42222/ecdsa-0.13-py2.py3-none-any.whl\n",
            "Collecting editdistance==0.5.2\n",
            "  Using cached https://files.pythonhosted.org/packages/e5/37/38c82a017b84729f272aef4384d55cf544d4701e43b0cb92a5274d375e21/editdistance-0.5.2-cp37-cp37m-manylinux1_x86_64.whl\n",
            "Collecting feedfinder2==0.0.4\n",
            "  Using cached https://files.pythonhosted.org/packages/35/82/1251fefec3bb4b03fd966c7e7f7a41c9fc2bb00d823a34c13f847fd61406/feedfinder2-0.0.4.tar.gz\n",
            "Collecting feedparser==5.2.1\n",
            "  Using cached https://files.pythonhosted.org/packages/91/d8/7d37fec71ff7c9dbcdd80d2b48bcdd86d6af502156fc93846fb0102cb2c4/feedparser-5.2.1.tar.bz2\n",
            "Collecting flaky==3.4.0\n",
            "  Using cached https://files.pythonhosted.org/packages/f8/92/4f16fc920fb3b58233a2b791edee8934e8644907bc9966c099570a7e46b1/flaky-3.4.0-py2.py3-none-any.whl\n",
            "Collecting Flask==1.0.2\n",
            "  Using cached https://files.pythonhosted.org/packages/7f/e7/08578774ed4536d3242b14dacb4696386634607af824ea997202cd0edb4b/Flask-1.0.2-py2.py3-none-any.whl\n",
            "Collecting Flask-Cors==3.0.7\n",
            "  Using cached https://files.pythonhosted.org/packages/65/cb/683f71ff8daa3aea0a5cbb276074de39f9ab66d3fbb8ad5efb5bb83e90d2/Flask_Cors-3.0.7-py2.py3-none-any.whl\n",
            "Collecting ftfy==5.5.0\n",
            "  Using cached https://files.pythonhosted.org/packages/87/d1/b25441b6b8f22dfd9547711268562fe651b74cf66288cce632884025e085/ftfy-5.5.0.tar.gz\n",
            "Collecting future==0.17.1\n",
            "  Using cached https://files.pythonhosted.org/packages/90/52/e20466b85000a181e1e144fd8305caf2cf475e2f9674e797b222f8105f5f/future-0.17.1.tar.gz\n",
            "Collecting gast==0.2.2\n",
            "  Using cached https://files.pythonhosted.org/packages/4e/35/11749bf99b2d4e3cceb4d55ca22590b0d7c2c62b9de38ac4a4a7f4687421/gast-0.2.2.tar.gz\n",
            "Collecting gevent==1.3.6\n",
            "  Using cached https://files.pythonhosted.org/packages/c9/36/483097f7eae9e984c88cb192b33eca0234eb0bafdc6c9646586b8dbc96b4/gevent-1.3.6-cp37-cp37m-manylinux1_x86_64.whl\n",
            "Collecting greenlet==0.4.15\n",
            "  Using cached https://files.pythonhosted.org/packages/9d/ef/ac10aa1293f64939e4511909c570d969566126214af5dd7ba0afd353d88b/greenlet-0.4.15-cp37-cp37m-manylinux1_x86_64.whl\n",
            "Collecting grpcio==1.18.0\n",
            "  Using cached https://files.pythonhosted.org/packages/0a/47/d40daf7a46543e4d762ce0507d83ec49a883a6c0fed4d33a9e93652de8a8/grpcio-1.18.0-cp37-cp37m-manylinux1_x86_64.whl\n",
            "Collecting h5py==2.9.0\n",
            "  Using cached https://files.pythonhosted.org/packages/8e/fd/2ca5c4f4ed33ac4178f9c4d551e3946ab480866e3cd67a65a67a4bb35367/h5py-2.9.0-cp37-cp37m-manylinux1_x86_64.whl\n",
            "Collecting idna==2.7\n",
            "  Using cached https://files.pythonhosted.org/packages/4b/2a/0276479a4b3caeb8a8c1af2f8e4355746a97fab05a372e4a2c6a6b876165/idna-2.7-py2.py3-none-any.whl\n",
            "Collecting imagesize==1.1.0\n",
            "  Using cached https://files.pythonhosted.org/packages/fc/b6/aef66b4c52a6ad6ac18cf6ebc5731ed06d8c9ae4d3b2d9951f261150be67/imagesize-1.1.0-py2.py3-none-any.whl\n",
            "Requirement already satisfied: itsdangerous==1.1.0 in /usr/local/lib/python3.7/dist-packages (from -r /content/FakeNewsPropagation/requirements.txt (line 49)) (1.1.0)\n",
            "Collecting jieba3k==0.35.1\n",
            "  Using cached https://files.pythonhosted.org/packages/a9/cb/2c8332bcdc14d33b0bedd18ae0a4981a069c3513e445120da3c3f23a8aaa/jieba3k-0.35.1.zip\n",
            "Collecting Jinja2==2.10\n",
            "  Using cached https://files.pythonhosted.org/packages/7f/ff/ae64bacdfc95f27a016a7bed8e8686763ba4d277a78ca76f32659220a731/Jinja2-2.10-py2.py3-none-any.whl\n",
            "Collecting jmespath==0.9.3\n",
            "  Using cached https://files.pythonhosted.org/packages/b7/31/05c8d001f7f87f0f07289a5fc0fc3832e9a57f2dbd4d3b0fee70e0d51365/jmespath-0.9.3-py2.py3-none-any.whl\n",
            "Collecting jsondiff==1.1.1\n",
            "  Using cached https://files.pythonhosted.org/packages/bd/5f/13e28a2f9abeda2ffb3f44f2f809b01b52bc02cdb63816e05b8c9cbbdfc5/jsondiff-1.1.1.tar.gz\n",
            "Collecting jsonnet==0.10.0\n",
            "  Using cached https://files.pythonhosted.org/packages/3c/83/d49904ee98dd4fbba6a003938e30e76251951c4bdb49628b4f92e5009a42/jsonnet-0.10.0.tar.gz\n",
            "Collecting jsonpickle==1.0\n",
            "  Using cached https://files.pythonhosted.org/packages/ca/ce/97404d5aeb58e6155c216825c81b50f6eca8a5345c582317ae48391878f8/jsonpickle-1.0-py2.py3-none-any.whl\n",
            "Collecting Keras==2.2.4\n",
            "  Using cached https://files.pythonhosted.org/packages/5e/10/aa32dad071ce52b5502266b5c659451cfd6ffcbf14e6c8c4f16c0ff5aaab/Keras-2.2.4-py2.py3-none-any.whl\n",
            "Collecting Keras-Applications==1.0.6\n",
            "  Using cached https://files.pythonhosted.org/packages/3f/c4/2ff40221029f7098d58f8d7fb99b97e8100f3293f9856f0fb5834bef100b/Keras_Applications-1.0.6-py2.py3-none-any.whl\n",
            "Collecting Keras-Preprocessing==1.0.5\n",
            "  Using cached https://files.pythonhosted.org/packages/fc/94/74e0fa783d3fc07e41715973435dd051ca89c550881b3454233c39c73e69/Keras_Preprocessing-1.0.5-py2.py3-none-any.whl\n",
            "Collecting kiwisolver==1.0.1\n",
            "  Using cached https://files.pythonhosted.org/packages/5c/7e/d6cae2f241ba474a2665f24b480bf4e247036d63939dda2bbc4d2ee5069d/kiwisolver-1.0.1-cp37-cp37m-manylinux1_x86_64.whl\n",
            "Collecting lxml==4.2.5\n",
            "  Using cached https://files.pythonhosted.org/packages/7a/6b/a3d2d3c3075617edcbfc272d79281e812b1a94dab37923b1d06fdfe2e906/lxml-4.2.5-cp37-cp37m-manylinux1_x86_64.whl\n",
            "Collecting Markdown==3.0.1\n",
            "  Using cached https://files.pythonhosted.org/packages/7a/6b/5600647404ba15545ec37d2f7f58844d690baf2f81f3a60b862e48f29287/Markdown-3.0.1-py2.py3-none-any.whl\n",
            "Collecting MarkupSafe==1.1.0\n",
            "  Using cached https://files.pythonhosted.org/packages/e4/c4/adcc2d6f2ac2146cc04e076f14f1006c1de8e1e747fa067668b6573000b8/MarkupSafe-1.1.0-cp37-cp37m-manylinux1_x86_64.whl\n",
            "Collecting matplotlib==2.2.3\n",
            "  Using cached https://files.pythonhosted.org/packages/52/46/ff47fea8e5c528c497fc385c95887131c4319a3411814ba9a766b66a9367/matplotlib-2.2.3-cp37-cp37m-manylinux1_x86_64.whl\n",
            "Collecting mock==2.0.0\n",
            "  Using cached https://files.pythonhosted.org/packages/e6/35/f187bdf23be87092bd0f1200d43d23076cee4d0dec109f195173fd3ebc79/mock-2.0.0-py2.py3-none-any.whl\n",
            "Collecting more-itertools==4.3.0\n",
            "  Using cached https://files.pythonhosted.org/packages/79/b1/eace304ef66bd7d3d8b2f78cc374b73ca03bc53664d78151e9df3b3996cc/more_itertools-4.3.0-py3-none-any.whl\n",
            "Collecting moto==1.3.4\n",
            "  Using cached https://files.pythonhosted.org/packages/ee/8f/7b36e81ff067d0e7bf90f7210b351c0cfe6657f79fa4dcb0cb4787462e05/moto-1.3.4-py2.py3-none-any.whl\n",
            "Collecting msgpack==0.5.6\n",
            "  Using cached https://files.pythonhosted.org/packages/f3/b6/9affbea179c3c03a0eb53515d9ce404809a122f76bee8fc8c6ec9497f51f/msgpack-0.5.6.tar.gz\n",
            "Collecting msgpack-numpy==0.4.3.2\n",
            "  Using cached https://files.pythonhosted.org/packages/ad/45/464be6da85b5ca893cfcbd5de3b31a6710f636ccb8521b17bd4110a08d94/msgpack_numpy-0.4.3.2-py2.py3-none-any.whl\n",
            "Collecting murmurhash==1.0.1\n",
            "  Using cached https://files.pythonhosted.org/packages/3c/15/37a8153aa33a3feb9d6383205c470b2750714d016b34d9f00e0d0c262af2/murmurhash-1.0.1-cp37-cp37m-manylinux1_x86_64.whl\n",
            "Collecting networkx==2.2\n",
            "  Using cached https://files.pythonhosted.org/packages/f3/f4/7e20ef40b118478191cec0b58c3192f822cace858c19505c7670961b76b2/networkx-2.2.zip\n",
            "Collecting newspaper3k==0.2.8\n",
            "  Using cached https://files.pythonhosted.org/packages/d7/b9/51afecb35bb61b188a4b44868001de348a0e8134b4dfa00ffc191567c4b9/newspaper3k-0.2.8-py3-none-any.whl\n",
            "Collecting nltk==3.4\n",
            "  Using cached https://files.pythonhosted.org/packages/6f/ed/9c755d357d33bc1931e157f537721efb5b88d2c583fe593cc09603076cc3/nltk-3.4.zip\n",
            "Collecting numpy==1.15.2\n",
            "  Using cached https://files.pythonhosted.org/packages/98/44/94cc2e139b611b16458384ff3b9c87f217144b5915b0a9798c07a7295437/numpy-1.15.2-cp37-cp37m-manylinux1_x86_64.whl\n",
            "Collecting numpydoc==0.8.0\n",
            "  Using cached https://files.pythonhosted.org/packages/95/a8/b4706a6270f0475541c5c1ee3373c7a3b793936ec1f517f1a1dab4f896c0/numpydoc-0.8.0.tar.gz\n",
            "Collecting overrides==1.9\n",
            "  Using cached https://files.pythonhosted.org/packages/de/55/3100c6d14c1ed177492fcf8f07c4a7d2d6c996c0a7fc6a9a0a41308e7eec/overrides-1.9.tar.gz\n",
            "Collecting packaging==18.0\n",
            "  Using cached https://files.pythonhosted.org/packages/89/d1/92e6df2e503a69df9faab187c684585f0136662c12bb1f36901d426f3fab/packaging-18.0-py2.py3-none-any.whl\n",
            "Collecting pandas==0.23.4\n",
            "  Using cached https://files.pythonhosted.org/packages/67/a7/12261a51ac2e7be4c698ca27cbe364ca5f16d64999456ee47ea8c7b44417/pandas-0.23.4-cp37-cp37m-manylinux1_x86_64.whl\n",
            "Collecting parsimonious==0.8.0\n",
            "  Using cached https://files.pythonhosted.org/packages/4a/89/32c55944cd30dff856f16859ee325b13c83c260d0c56c0eed511e8063c87/parsimonious-0.8.0.tar.gz\n",
            "Collecting pbr==5.1.1\n",
            "  Using cached https://files.pythonhosted.org/packages/f3/04/fddc1c2dd75b256eda4d360024692231a2c19a0c61ad7f4a162407c1ab58/pbr-5.1.1-py2.py3-none-any.whl\n",
            "Collecting Pillow==5.3.0\n",
            "  Using cached https://files.pythonhosted.org/packages/62/8c/230204b8e968f6db00c765624f51cfd1ecb6aea57b25ba00b240ee3fb0bd/Pillow-5.3.0-cp37-cp37m-manylinux1_x86_64.whl\n",
            "Collecting plac==0.9.6\n",
            "  Using cached https://files.pythonhosted.org/packages/9e/9b/62c60d2f5bc135d2aa1d8c8a86aaf84edb719a59c7f11a4316259e61a298/plac-0.9.6-py2.py3-none-any.whl\n",
            "Collecting pluggy==0.8.0\n",
            "  Using cached https://files.pythonhosted.org/packages/1c/e7/017c262070af41fe251401cb0d0e1b7c38f656da634cd0c15604f1f30864/pluggy-0.8.0-py2.py3-none-any.whl\n",
            "Collecting preshed==2.0.1\n",
            "  Using cached https://files.pythonhosted.org/packages/bc/2b/3ecd5d90d2d6fd39fbc520de7d80db5d74defdc2d7c2e15531d9cc3498c7/preshed-2.0.1-cp37-cp37m-manylinux1_x86_64.whl\n",
            "Collecting protobuf==3.6.1\n",
            "  Using cached https://files.pythonhosted.org/packages/3a/30/289ead101f94998d88e8961a3548aea29417ae0057be23972483cddebf4f/protobuf-3.6.1-cp37-cp37m-manylinux1_x86_64.whl\n",
            "Collecting py==1.7.0\n",
            "  Using cached https://files.pythonhosted.org/packages/3e/c7/3da685ef117d42ac8d71af525208759742dd235f8094221fdaafcd3dba8f/py-1.7.0-py2.py3-none-any.whl\n",
            "Collecting pyaml==18.11.0\n",
            "  Using cached https://files.pythonhosted.org/packages/c5/e1/1523fb1dab744e2c6b1f02446f2139a78726c18c062a8ddd53875abb20f8/pyaml-18.11.0-py2.py3-none-any.whl\n",
            "Collecting pyasn1==0.4.4\n",
            "  Using cached https://files.pythonhosted.org/packages/d1/a1/7790cc85db38daa874f6a2e6308131b9953feb1367f2ae2d1123bb93a9f5/pyasn1-0.4.4-py2.py3-none-any.whl\n",
            "Collecting pycparser==2.19\n",
            "  Using cached https://files.pythonhosted.org/packages/68/9e/49196946aee219aead1290e00d1e7fdeab8567783e83e1b9ab5585e6206a/pycparser-2.19.tar.gz\n",
            "Collecting pycryptodome==3.7.2\n",
            "  Using cached https://files.pythonhosted.org/packages/f6/b6/6cdf0f2e63302def5f5ed206e663daa0c7dc6b853618327c1909550d8617/pycryptodome-3.7.2-cp37-cp37m-manylinux1_x86_64.whl\n",
            "Collecting Pygments==2.3.1\n",
            "  Using cached https://files.pythonhosted.org/packages/13/e5/6d710c9cf96c31ac82657bcfb441df328b22df8564d58d0c4cd62612674c/Pygments-2.3.1-py2.py3-none-any.whl\n",
            "Collecting pymongo==3.7.2\n",
            "  Using cached https://files.pythonhosted.org/packages/99/18/b50834fbfd557eaf07985c2a657b03efc691462ecba62d03e32c2fc4f640/pymongo-3.7.2-cp37-cp37m-manylinux1_x86_64.whl\n",
            "Collecting pyparsing==2.3.0\n",
            "  Using cached https://files.pythonhosted.org/packages/71/e8/6777f6624681c8b9701a8a0a5654f3eb56919a01a78e12bf3c73f5a3c714/pyparsing-2.3.0-py2.py3-none-any.whl\n",
            "Collecting pytest==4.0.2\n",
            "  Using cached https://files.pythonhosted.org/packages/19/80/1ac71d332302a89e8637456062186bf397abc5a5b663c1919b73f4d68b1b/pytest-4.0.2-py2.py3-none-any.whl\n",
            "Collecting python-dateutil==2.7.3\n",
            "  Using cached https://files.pythonhosted.org/packages/cf/f5/af2b09c957ace60dcfac112b669c45c8c97e32f94aa8b56da4c6d1682825/python_dateutil-2.7.3-py2.py3-none-any.whl\n",
            "Collecting python-jose==2.0.2\n",
            "  Using cached https://files.pythonhosted.org/packages/bf/5c/5fa238c0c5b0656994b52721dd8b1d7bf52ebd8786518dde794f44de86b6/python_jose-2.0.2-py2.py3-none-any.whl\n",
            "Collecting pytorch-pretrained-bert==0.3.0\n",
            "  Using cached https://files.pythonhosted.org/packages/26/85/de4dd7e018a197280752881adf7b4142886f20155145f641f7c803c0018a/pytorch_pretrained_bert-0.3.0-py3-none-any.whl\n",
            "Collecting pytz==2018.5\n",
            "  Using cached https://files.pythonhosted.org/packages/30/4e/27c34b62430286c6d59177a0842ed90dc789ce5d1ed740887653b898779a/pytz-2018.5-py2.py3-none-any.whl\n",
            "Requirement already satisfied: PyYAML==3.13 in /usr/local/lib/python3.7/dist-packages (from -r /content/FakeNewsPropagation/requirements.txt (line 98)) (3.13)\n",
            "Collecting regex==2018.1.10\n",
            "  Using cached https://files.pythonhosted.org/packages/76/f4/7146c3812f96fcaaf2d06ff6862582302626a59011ccb6f2833bb38d80f7/regex-2018.01.10.tar.gz\n",
            "Collecting requests==2.20.1\n",
            "  Using cached https://files.pythonhosted.org/packages/ff/17/5cbb026005115301a8fb2f9b0e3e8d32313142fe8b617070e7baad20554f/requests-2.20.1-py2.py3-none-any.whl\n",
            "Collecting requests-file==1.4.3\n",
            "  Using cached https://files.pythonhosted.org/packages/23/9c/6e63c23c39e53d3df41c77a3d05a49a42c4e1383a6d2a5e3233161b89dbf/requests_file-1.4.3-py2.py3-none-any.whl\n",
            "Collecting responses==0.10.5\n",
            "  Using cached https://files.pythonhosted.org/packages/2f/d8/a77cbd4cb8366ad0e275f2c642b50b401da22a2f5714e003e499fddca106/responses-0.10.5-py2.py3-none-any.whl\n",
            "Collecting rsa==3.4.2\n",
            "  Using cached https://files.pythonhosted.org/packages/e1/ae/baedc9cb175552e95f3395c43055a6a5e125ae4d48a1d7a924baca83e92e/rsa-3.4.2-py2.py3-none-any.whl\n",
            "Collecting s3transfer==0.1.13\n",
            "  Using cached https://files.pythonhosted.org/packages/d7/14/2a0004d487464d120c9fb85313a75cd3d71a7506955be458eebfe19a6b1d/s3transfer-0.1.13-py2.py3-none-any.whl\n",
            "Collecting scikit-learn==0.20.0\n",
            "  Using cached https://files.pythonhosted.org/packages/56/7d/0737aed3e157fb90a1eaecb1cbfa5742fa4206fb305c8f157b666b71da14/scikit_learn-0.20.0-cp37-cp37m-manylinux1_x86_64.whl\n",
            "Collecting scipy==1.1.0\n",
            "  Using cached https://files.pythonhosted.org/packages/40/de/0c22c6754370ba6b1fa8e53bd6e514d4a41a181125d405a501c215cbdbd6/scipy-1.1.0-cp37-cp37m-manylinux1_x86_64.whl\n",
            "Collecting seaborn==0.9.0\n",
            "  Using cached https://files.pythonhosted.org/packages/a8/76/220ba4420459d9c4c9c9587c6ce607bf56c25b3d3d2de62056efe482dadc/seaborn-0.9.0-py3-none-any.whl\n",
            "Collecting singledispatch==3.4.0.3\n",
            "  Using cached https://files.pythonhosted.org/packages/c5/10/369f50bcd4621b263927b0a1519987a04383d4a98fb10438042ad410cf88/singledispatch-3.4.0.3-py2.py3-none-any.whl\n",
            "Collecting six==1.11.0\n",
            "  Using cached https://files.pythonhosted.org/packages/67/4b/141a581104b1f6397bfa78ac9d43d8ad29a7ca43ea90a2d863fe3056e86a/six-1.11.0-py2.py3-none-any.whl\n",
            "Collecting snowballstemmer==1.2.1\n",
            "  Using cached https://files.pythonhosted.org/packages/d4/6c/8a935e2c7b54a37714656d753e4187ee0631988184ed50c0cf6476858566/snowballstemmer-1.2.1-py2.py3-none-any.whl\n",
            "Collecting spacy==2.0.18\n",
            "  Using cached https://files.pythonhosted.org/packages/cd/70/65504a011d7b262e73cfe470c36ca245a1f8e45b3b6661081289ffd72009/spacy-2.0.18-cp37-cp37m-manylinux1_x86_64.whl\n",
            "Collecting Sphinx==1.8.3\n",
            "  Using cached https://files.pythonhosted.org/packages/0e/5c/e7d076cf2900b38cba5c7d48545953540d86634d391b702067c00d99cb01/Sphinx-1.8.3-py2.py3-none-any.whl\n",
            "Collecting sphinxcontrib-websupport==1.1.0\n",
            "  Using cached https://files.pythonhosted.org/packages/52/69/3c2fbdc3702358c5b34ee25e387b24838597ef099761fc9a42c166796e8f/sphinxcontrib_websupport-1.1.0-py2.py3-none-any.whl\n",
            "Collecting sqlparse==0.2.4\n",
            "  Using cached https://files.pythonhosted.org/packages/65/85/20bdd72f4537cf2c4d5d005368d502b2f464ede22982e724a82c86268eda/sqlparse-0.2.4-py2.py3-none-any.whl\n",
            "Collecting tensorboard==1.12.2\n",
            "  Using cached https://files.pythonhosted.org/packages/07/53/8d32ce9471c18f8d99028b7cef2e5b39ea8765bd7ef250ca05b490880971/tensorboard-1.12.2-py3-none-any.whl\n",
            "Collecting tensorboardX==1.2\n",
            "  Using cached https://files.pythonhosted.org/packages/c5/22/43f4f0318f7c68a1000dbb700a353b745584bc2397437832d15ba69ea5f1/tensorboardX-1.2-py2.py3-none-any.whl\n",
            "\u001b[31mERROR: Could not find a version that satisfies the requirement tensorflow==1.12.0 (from -r /content/FakeNewsPropagation/requirements.txt (line 117)) (from versions: 1.13.0rc1, 1.13.0rc2, 1.13.1, 1.13.2, 1.14.0rc0, 1.14.0rc1, 1.14.0, 1.15.0rc0, 1.15.0rc1, 1.15.0rc2, 1.15.0rc3, 1.15.0, 1.15.2, 1.15.3, 1.15.4, 1.15.5, 2.0.0a0, 2.0.0b0, 2.0.0b1, 2.0.0rc0, 2.0.0rc1, 2.0.0rc2, 2.0.0, 2.0.1, 2.0.2, 2.0.3, 2.0.4, 2.1.0rc0, 2.1.0rc1, 2.1.0rc2, 2.1.0, 2.1.1, 2.1.2, 2.1.3, 2.2.0rc0, 2.2.0rc1, 2.2.0rc2, 2.2.0rc3, 2.2.0rc4, 2.2.0, 2.2.1, 2.2.2, 2.3.0rc0, 2.3.0rc1, 2.3.0rc2, 2.3.0, 2.3.1, 2.3.2, 2.4.0rc0, 2.4.0rc1, 2.4.0rc2, 2.4.0rc3, 2.4.0rc4, 2.4.0, 2.4.1)\u001b[0m\n",
            "\u001b[31mERROR: No matching distribution found for tensorflow==1.12.0 (from -r /content/FakeNewsPropagation/requirements.txt (line 117))\u001b[0m\n"
          ],
          "name": "stdout"
        }
      ]
    },
    {
      "cell_type": "code",
      "metadata": {
        "colab": {
          "base_uri": "https://localhost:8080/"
        },
        "id": "VBP7s7uM_bWv",
        "outputId": "5d5e8b00-2381-443c-8bc8-8e48f2f38677"
      },
      "source": [
        "!pip install vaderSentiment"
      ],
      "execution_count": 36,
      "outputs": [
        {
          "output_type": "stream",
          "text": [
            "Requirement already satisfied: vaderSentiment in /usr/local/lib/python3.7/dist-packages (3.3.2)\n",
            "Requirement already satisfied: requests in /usr/local/lib/python3.7/dist-packages (from vaderSentiment) (2.23.0)\n",
            "Requirement already satisfied: urllib3!=1.25.0,!=1.25.1,<1.26,>=1.21.1 in /usr/local/lib/python3.7/dist-packages (from requests->vaderSentiment) (1.24.3)\n",
            "Requirement already satisfied: chardet<4,>=3.0.2 in /usr/local/lib/python3.7/dist-packages (from requests->vaderSentiment) (3.0.4)\n",
            "Requirement already satisfied: certifi>=2017.4.17 in /usr/local/lib/python3.7/dist-packages (from requests->vaderSentiment) (2020.12.5)\n",
            "Requirement already satisfied: idna<3,>=2.5 in /usr/local/lib/python3.7/dist-packages (from requests->vaderSentiment) (2.10)\n"
          ],
          "name": "stdout"
        }
      ]
    },
    {
      "cell_type": "code",
      "metadata": {
        "colab": {
          "base_uri": "https://localhost:8080/"
        },
        "id": "tsgeSxFg_eEQ",
        "outputId": "6e29f18e-5a72-4b86-b02b-f94769de7fc3"
      },
      "source": [
        "!python3 \"/content/FakeNewsPropagation/basic_model.py\""
      ],
      "execution_count": 37,
      "outputs": [
        {
          "output_type": "stream",
          "text": [
            "/content/FakeNewsPropagation/data/features/politifact_fake_struct_micro_macro.pkl\n",
            "/content/FakeNewsPropagation/data/features/politifact_real_struct_micro_macro.pkl\n",
            "(['Micro - Tree depth', 'Micro - No of nodes', 'Micro - Maximum out degree', 'No. of cascades with replies', 'Fraction of cascades with replies', 'Macro - Tree depth', 'Macro - No of nodes', 'Macro - Maximum out degree', 'Macro - No of cascades', \"Macro - Max out degree node's level\", 'No. of cascades with retweets', 'Fraction of cascades with retweets', 'No. of bot users retweeting', 'Fraction of bot user retweeting'], ['S10', 'S11', 'S12', 'S13', 'S14', 'S1', 'S2', 'S3', 'S4', 'S5', 'S6', 'S7', 'S8', 'S9'])\n",
            "Feature group : Structural\n",
            "277\n",
            "277\n",
            "(['Average time diff between adjacent replies', 'Time diff between first tweet posting node and first reply node', 'Time diff between first tweet posting news and last reply node', 'Average time between adjacent reply nodes in the deepest cascade', 'Time diff between first tweet posting news and last reply node in the deepest cascade', 'Average time diff between the adjacent retweet nodes in macro network', 'Time diff between first tweet and  most recent node in macro network', 'Time diff between first tweet posting news and max out degree node', 'Time difference between the first and last tweet posting news', 'Time diff between tweet posting news and latest retweet node in the deepest cascade', 'Average time diff between the adjacent retweet nodes in deepest cascade', 'Average time between the tweets posted related to news', 'Avg time diff between the tweet post time and the first retweet time'], ['T9', 'T10', 'T11', 'T12', 'T13', 'T1', 'T2', 'T3', 'T4', 'T5', 'T6', 'T7', 'T8'])\n",
            "Feature group : Temporal\n",
            "277\n",
            "277\n",
            "(['Sentiment ratio of all replies', 'Average sentiment of all replies', 'Average sentiment of first level replies', 'Average sentiment of replies in deepest cascade', 'Average setiment of first level replies in deepest cascade'], ['L1', 'L2', 'L3', 'L4', 'L5', 'L6'])\n",
            "Feature group : Linguistic\n",
            "277\n",
            "277\n",
            "Sample feature array dimensions\n",
            "(554, 32)\n",
            "=======GaussianNB=======\n",
            "Accuracy : 0.7207207207207207\n",
            "Precision : 0.6538461538461539\n",
            "Recall : 0.9272727272727274\n",
            "F1 : 0.7669172932330828\n",
            "=======LogisticRegression=======\n",
            "Accuracy : 0.7927927927927928\n",
            "Precision : 0.7285714285714285\n",
            "Recall : 0.9272727272727274\n",
            "F1 : 0.8159999999999998\n",
            "=======DecisionTreeClassifier=======\n",
            "Accuracy : 0.6882882882882883\n",
            "Precision : 0.6932638588702612\n",
            "Recall : 0.6654545454545454\n",
            "F1 : 0.6787326544873715\n",
            "=======RandomForestClassifier=======\n",
            "Accuracy : 0.8\n",
            "Precision : 0.7679658128851006\n",
            "Recall : 0.8545454545454545\n",
            "F1 : 0.808849147100093\n",
            "=======SVM -linear kernel=======\n",
            "Accuracy : 0.7837837837837838\n",
            "Precision : 0.7183098591549296\n",
            "Recall : 0.9272727272727274\n",
            "F1 : 0.8095238095238096\n"
          ],
          "name": "stdout"
        }
      ]
    }
  ]
}