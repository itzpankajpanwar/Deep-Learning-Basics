{
  "nbformat": 4,
  "nbformat_minor": 0,
  "metadata": {
    "colab": {
      "name": "catvsdogs.ipynb",
      "provenance": [],
      "collapsed_sections": [],
      "include_colab_link": true
    },
    "kernelspec": {
      "name": "python3",
      "display_name": "Python 3"
    }
  },
  "cells": [
    {
      "cell_type": "markdown",
      "metadata": {
        "id": "view-in-github",
        "colab_type": "text"
      },
      "source": [
        "<a href=\"https://colab.research.google.com/github/itzpankajpanwar/Deep-Learning-Basics/blob/main/catvsdogs.ipynb\" target=\"_parent\"><img src=\"https://colab.research.google.com/assets/colab-badge.svg\" alt=\"Open In Colab\"/></a>"
      ]
    },
    {
      "cell_type": "code",
      "metadata": {
        "id": "Cq6G3buSdSMI"
      },
      "source": [
        "import cv2\n",
        "import numpy as np \n",
        "import os\n",
        "from random import shuffle\n",
        "from tqdm import tqdm"
      ],
      "execution_count": null,
      "outputs": []
    },
    {
      "cell_type": "code",
      "metadata": {
        "id": "Y8IMYr6JdXYV"
      },
      "source": [
        "TRAIN_DIR=''\n",
        "TEST_DIR=''\n",
        "IMG_SIZE=50\n",
        "LR = 1e-3\n"
      ],
      "execution_count": null,
      "outputs": []
    },
    {
      "cell_type": "code",
      "metadata": {
        "id": "EPyLhfG-dbV5"
      },
      "source": [
        "MODEL_NAME = 'dogsvscats-()-().model'.format(LR,'2conv-basic')\n",
        "\n",
        "def label_img():\n",
        "\tword_label = image.split('.')[-3]\n",
        "\tif word_label == 'cat': return [1,0]\n",
        "\telif word_label == 'dog': return [0,1]\n",
        "  "
      ],
      "execution_count": null,
      "outputs": []
    },
    {
      "cell_type": "code",
      "metadata": {
        "id": "IHzO-lHgdhTZ"
      },
      "source": [
        "def create_train_data():\n",
        "\ttraining_data=[]\n",
        "\tfor img in tqdm(os.listdir(TRAIN_DIR)):\n",
        "\t\tlabel=label_img(img)\n",
        "\t\tpath=os.path.join(TRAIN_DIR,img)\n",
        "\t\timg = cv2.resize(cv2.imread(path,cv2.IMREAD_GRAYSCALE),(IMG_SIZE,IMG_SIZE))\n",
        "\t\ttraining_data.append([np.array(img),np.array(label)])\n",
        "\tshuffle(training_data)\n",
        "\tnp.save('train_data.npy',training_data)\n",
        "\treturn training_data\n"
      ],
      "execution_count": null,
      "outputs": []
    },
    {
      "cell_type": "code",
      "metadata": {
        "id": "ShGvdAw3dqgw"
      },
      "source": [
        "\n",
        "def process_train_data():\n",
        "\ttesting_data = []\n",
        "\tfor img in tqdm(os.listdir(TEST_DIR)):\n",
        "\t\tpath=os.path.join(TEST_DIR,img)\n",
        "\t\timg_num = img.split('.')[0]\n",
        "\t\timg = cv2.resize(cv2.imread(path,cv2.IMREAD_GRAYSCALE),(IMG_SIZE,IMG_SIZE))\n",
        "\t\ttesting_data.append([np.array(img),img_num])\n",
        "\tnp.save('test_data.npy',testing_data)\n",
        "\treturn testing_data"
      ],
      "execution_count": null,
      "outputs": []
    },
    {
      "cell_type": "code",
      "metadata": {
        "id": "B2H-GgOOdtZr"
      },
      "source": [
        "\n",
        "train_data = create_train_data()"
      ],
      "execution_count": null,
      "outputs": []
    },
    {
      "cell_type": "code",
      "metadata": {
        "id": "ud7nl9mUd12F"
      },
      "source": [
        "import tflearn\n",
        "from tflearn.layers.conv import conv_2d, max_pool_2d\n",
        "from tflearn.layers.core import input_data, dropout, fully_connected\n",
        "from tflearn.layers.estimator import regression\n",
        "\n",
        "convnet = input_data(shape=[None, IMG_SIZE, IMG_SIZE, 1], name='input')\n",
        "\n",
        "convnet = conv_2d(convnet, 32, 2, activation='relu')\n",
        "convnet = max_pool_2d(convnet, 2)\n",
        "\n",
        "convnet = conv_2d(convnet, 64, 2, activation='relu')\n",
        "convnet = max_pool_2d(convnet, 2)\n",
        "\n",
        "convnet = fully_connected(convnet, 1024, activation='relu')\n",
        "convnet = dropout(convnet, 0.8)\n",
        "\n",
        "convnet = fully_connected(convnet, 2, activation='softmax')\n",
        "convnet = regression(convnet, optimizer='adam', learning_rate=LR, loss='categorical_crossentropy', name='targets')\n",
        "\n",
        "model = tflearn.DNN(convnet, tenserboard_dir = 'log')\n"
      ],
      "execution_count": null,
      "outputs": []
    },
    {
      "cell_type": "markdown",
      "metadata": {
        "id": "tJuICE1vep_s"
      },
      "source": [
        "# New Section"
      ]
    },
    {
      "cell_type": "code",
      "metadata": {
        "id": "y11qhxp8d-rk"
      },
      "source": [
        "\n",
        "if os.path.exists('{}.meta'.format(MODEL_NAME)):\n",
        "\tmodel.load(MODEL_NAME)\n",
        "\tprint(' model loaded  ')"
      ],
      "execution_count": null,
      "outputs": []
    },
    {
      "cell_type": "code",
      "metadata": {
        "id": "OYtKQuw5eC34"
      },
      "source": [
        "train = train_data[:-500]\n",
        "test = test_data[-500:]\n",
        "\n",
        "X = np.array[i[0] for i in train].reshape(-1,IMG_SIZE,IMG_SIZE,1)\n",
        "Y = [i[1] for i in train]"
      ],
      "execution_count": null,
      "outputs": []
    },
    {
      "cell_type": "code",
      "metadata": {
        "id": "n85s5k_QeIUF"
      },
      "source": [
        "test_x = np.array[i[0] for i in test].reshape(-1,IMG_SIZE,IMG_SIZE,1)\n",
        "test_y = [i[1] for i in test]\n",
        "model.fit({'input': X}, {'targets': Y}, n_epoch=5, validation_set=({'input': test_x}, {'targets': test_y}), \n",
        "    snapshot_step=500, show_metric=True, run_id=MODEL_NAME)"
      ],
      "execution_count": null,
      "outputs": []
    }
  ]
}