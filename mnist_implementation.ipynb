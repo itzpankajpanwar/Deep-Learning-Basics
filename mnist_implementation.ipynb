{
  "nbformat": 4,
  "nbformat_minor": 0,
  "metadata": {
    "colab": {
      "name": "mnist_implementation",
      "provenance": [],
      "collapsed_sections": [],
      "include_colab_link": true
    },
    "kernelspec": {
      "display_name": "Python 3",
      "name": "python3"
    }
  },
  "cells": [
    {
      "cell_type": "markdown",
      "metadata": {
        "id": "view-in-github",
        "colab_type": "text"
      },
      "source": [
        "<a href=\"https://colab.research.google.com/github/itzpankajpanwar/Deep-Learning-Basics/blob/main/mnist_implementation.ipynb\" target=\"_parent\"><img src=\"https://colab.research.google.com/assets/colab-badge.svg\" alt=\"Open In Colab\"/></a>"
      ]
    },
    {
      "cell_type": "code",
      "metadata": {
        "id": "S647ksaAxRk_",
        "colab": {
          "base_uri": "https://localhost:8080/",
          "height": 277
        },
        "outputId": "6ee14d81-1aef-4d54-e849-6a79c95c6965"
      },
      "source": [
        "import tensorflow as tf\n",
        "from tensorflow.examples.tutorials.mnist import input_data\n",
        "mnist = input_data.read_data_sets(\"/temp/data/\",one_hot = True)\n",
        "\n",
        "n_nodes_hl1 = 500\n",
        "n_nodes_hl2 = 500\n",
        "n_nodes_hl3 = 500\n",
        "\n",
        "n_classes = 10\n",
        "batch_size=100\n",
        "\n",
        "x = tf.placeholder('float',[None, 784])\n",
        "y = tf.placeholder('float')\n",
        "\n",
        "def neural_network_model(data):\n",
        "  hidden_1_layer = {'weights':tf.Variable(tf.random_normal([784,n_nodes_hl1])),\n",
        "                    'biases':tf.Variable(tf.random_normal([n_nodes_hl1]))}\n",
        "  hidden_2_layer = {'weights':tf.Variable(tf.random_normal([n_nodes_hl1,n_nodes_hl2])),\n",
        "                    'biases':tf.Variable(tf.random_normal([n_nodes_hl2]))}\n",
        "  hidden_3_layer = {'weights':tf.Variable(tf.random_normal([n_nodes_hl2,n_nodes_hl3])),\n",
        "                    'biases':tf.Variable(tf.random_normal([n_nodes_hl3]))}\n",
        "  output_layer = {'weights':tf.Variable(tf.random_normal([n_nodes_hl3,n_classes])),\n",
        "                    'biases':tf.Variable(tf.random_normal([n_classes]))}\n",
        "  \n",
        "  l1 = tf.add(tf.matmul(data,hidden_1_layer['weights']),hidden_1_layer['biases'])\n",
        "  l1 = tf.nn.relu(l1)\n",
        "  \n",
        "  l2 = tf.add(tf.matmul(l1,hidden_2_layer['weights']),hidden_2_layer['biases'])\n",
        "  l2 = tf.nn.relu(l2)\n",
        "  \n",
        "  l3 = tf.add(tf.matmul(l2,hidden_3_layer['weights']),hidden_3_layer['biases'])\n",
        "  l3 = tf.nn.relu(l3)\n",
        "  \n",
        "  output = tf.matmul(l3,output_layer['weights'])+output_layer['biases']\n",
        "  \n",
        "  return output\n",
        "\n",
        "\n",
        "\n",
        "def train_neural_network(x):\n",
        "  prediction = neural_network_model(x)\n",
        "  cost=tf.reduce_mean(tf.nn.softmax_cross_entropy_with_logits(logits=prediction,labels=y))\n",
        "  optimizer = tf.train.AdamOptimizer().minimize(cost)\n",
        "  \n",
        "  hm_epochs=10\n",
        "  \n",
        "  with tf.Session() as sess:\n",
        "    sess.run(tf.initialize_all_variables())\n",
        "    \n",
        "    for epoch in range(hm_epochs):\n",
        "      epoch_loss=0\n",
        "      for _ in range(int(mnist.train.num_examples/batch_size)):\n",
        "        epoch_x,epoch_y = mnist.train.next_batch(batch_size)\n",
        "        _,c = sess.run([optimizer,cost], feed_dict = { x:epoch_x,y:epoch_y})\n",
        "        epoch_loss+=c\n",
        "      print('Epoch',epoch,' completed out of ',hm_epochs,'loss:',epoch_loss)\n",
        "      \n",
        "    correct = tf.equal(tf.argmax(prediction,1),tf.argmax(y,1))\n",
        "    accuracy = tf.reduce_mean(tf.cast(correct,'float'))\n",
        "    print('Accuracy:',accuracy.eval({x:mnist.test.images,y:mnist.test.labels}))\n",
        "    \n",
        "train_neural_network(x)"
      ],
      "execution_count": null,
      "outputs": [
        {
          "output_type": "stream",
          "text": [
            "Extracting /temp/data/train-images-idx3-ubyte.gz\n",
            "Extracting /temp/data/train-labels-idx1-ubyte.gz\n",
            "Extracting /temp/data/t10k-images-idx3-ubyte.gz\n",
            "Extracting /temp/data/t10k-labels-idx1-ubyte.gz\n",
            "Epoch 0  completed out of  10 loss: 2067803.7064819336\n",
            "Epoch 1  completed out of  10 loss: 446306.2699279785\n",
            "Epoch 2  completed out of  10 loss: 240514.72308635712\n",
            "Epoch 3  completed out of  10 loss: 138413.68080212176\n",
            "Epoch 4  completed out of  10 loss: 87137.4029031992\n",
            "Epoch 5  completed out of  10 loss: 54650.756092023104\n",
            "Epoch 6  completed out of  10 loss: 38741.32862135768\n",
            "Epoch 7  completed out of  10 loss: 31443.035134655423\n",
            "Epoch 8  completed out of  10 loss: 25431.79259974614\n",
            "Epoch 9  completed out of  10 loss: 22204.64462141413\n",
            "Accuracy: 0.9503\n"
          ],
          "name": "stdout"
        }
      ]
    }
  ]
}